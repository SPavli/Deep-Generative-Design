{
 "cells": [
  {
   "cell_type": "code",
   "execution_count": 4,
   "metadata": {},
   "outputs": [
    {
     "name": "stderr",
     "output_type": "stream",
     "text": [
      "c:\\Users\\31613\\anaconda3\\envs\\thesiscopy\\lib\\site-packages\\requests\\__init__.py:104: RequestsDependencyWarning: urllib3 (1.26.9) or chardet (5.0.0)/charset_normalizer (2.0.12) doesn't match a supported version!\n",
      "  RequestsDependencyWarning)\n"
     ]
    }
   ],
   "source": [
    "import numpy as np\n",
    "from tensorflow import keras\n",
    "from tensorflow.keras import layers\n",
    "from keras.layers import Concatenate\n",
    "from IPython import display\n",
    "from sklearn.model_selection import train_test_split\n",
    "import glob\n",
    "import imageio\n",
    "from compas.datastructures import Mesh\n",
    "from compas_plotters.meshplotter import MeshPlotter\n",
    "import networkx \n",
    "from networkx.algorithms.components.connected import connected_components\n",
    "from keras import layers, activations\n",
    "import os\n",
    "import pandas as pd\n",
    "import tensorflow as tf\n",
    "import random"
   ]
  },
  {
   "cell_type": "code",
   "execution_count": 38,
   "metadata": {},
   "outputs": [
    {
     "data": {
      "image/png": "[encoded data removed]",
      "text/plain": [
       "<Figure size 300x300 with 1 Axes>"
      ]
     },
     "metadata": {},
     "output_type": "display_data"
    }
   ],
   "source": [
    "job_directory=os.getcwd()\n",
    "data= os.path.join(job_directory, \"Data\",\"dense_meshquarter.obj\")\n",
    "meshdense = Mesh.from_obj(data)\n",
    "plotter = MeshPlotter(meshdense, figsize=(3, 3))\n",
    "plotter.draw_edges()\n",
    "plotter.draw_vertices(text='key', radius=0.01)\n",
    "plotter.draw_faces()\n",
    "plotter.show()"
   ]
  },
  {
   "cell_type": "code",
   "execution_count": 49,
   "metadata": {},
   "outputs": [],
   "source": [
    "#REL to adjacency matrix\n",
    "def flatten_to_matrix(flatten_lst,shape1):\n",
    "    array_zero=np.zeros((shape1,shape1))\n",
    "    y=0\n",
    "    for i in range(shape1):\n",
    "        for e in range(i):\n",
    "            array_zero[i,e]=flatten_lst[y]\n",
    "            array_zero[e,i]=flatten_lst[y]\n",
    "            y=y+1\n",
    "    array_new=array_zero\n",
    "    return array_new"
   ]
  },
  {
   "cell_type": "code",
   "execution_count": 40,
   "metadata": {},
   "outputs": [],
   "source": [
    "# Get a mesh from an adjacency matrix\n",
    "def Mesh_from_mtx(mtx):\n",
    "    vertices_old = list(meshdense.vertices())\n",
    "    v_old=[]\n",
    "    for i in vertices_old:\n",
    "        i_coordinates_old=Mesh.vertex_coordinates(meshdense, i, axes='xyz')\n",
    "        v_old.append(i_coordinates_old)\n",
    "\n",
    "    #get the connected edges\n",
    "    D=networkx.DiGraph(mtx) \n",
    "    edges = [[u, v] for [u, v] in D.edges()]\n",
    "\n",
    "    #sort the tuples of edges\n",
    "    temp=[]\n",
    "    for i in edges:\n",
    "        temp.append(tuple(sorted(i)))\n",
    "\n",
    "    #delete duplicate edges\n",
    "    temp=set(temp) #first create ser\n",
    "\n",
    "    temp=tuple(temp) #convert set to tuple\n",
    "\n",
    "    #Convert to list\n",
    "    edges=[]\n",
    "    for i in temp:\n",
    "        z=[]\n",
    "        for y in i:\n",
    "            z.append(v_old[y])\n",
    "        edges.append(z)\n",
    "\n",
    "    mrebuild=Mesh.from_lines(edges)\n",
    "    return (mrebuild)"
   ]
  },
  {
   "cell_type": "code",
   "execution_count": 10,
   "metadata": {},
   "outputs": [],
   "source": [
    "#Load dataset\n",
    "Trainning_Dataset_dir= os.path.join(job_directory, \"Trainning_Dataset\")\n",
    "feautures_flatten_dir=os.path.join(Trainning_Dataset_dir, \"feautures_flatten.npy\")\n",
    "feautures_flatten_best_dir=os.path.join(Trainning_Dataset_dir, \"feautures_flatten_best.npy\")\n",
    "labels_dir=os.path.join(Trainning_Dataset_dir, \"labels.npy\")\n",
    "x_train_dir=os.path.join(Trainning_Dataset_dir, \"x_train.npy\")\n",
    "y_train_dir=os.path.join(Trainning_Dataset_dir,\"y_train.npy\")\n",
    "x_test_dir=os.path.join(Trainning_Dataset_dir, \"x_test.npy\")\n",
    "y_test_dir=os.path.join(Trainning_Dataset_dir,\"y_test.npy\")\n",
    "\n",
    "feautures=np.load(feautures_flatten_dir, mmap_mode=None, allow_pickle=False, fix_imports=True, encoding='ASCII')\n",
    "feautures_best=np.load(feautures_flatten_best_dir, mmap_mode=None, allow_pickle=False, fix_imports=True, encoding='ASCII')\n",
    "labels=np.load(labels_dir, mmap_mode=None, allow_pickle=False, fix_imports=True, encoding='ASCII')\n",
    "x_train=np.load(x_train_dir, mmap_mode=None, allow_pickle=False, fix_imports=True, encoding='ASCII')\n",
    "y_train=np.load(y_train_dir, mmap_mode=None, allow_pickle=False, fix_imports=True, encoding='ASCII')\n",
    "x_test=np.load(x_test_dir, mmap_mode=None, allow_pickle=False, fix_imports=True, encoding='ASCII')\n",
    "y_test=np.load(y_test_dir, mmap_mode=None, allow_pickle=False, fix_imports=True, encoding='ASCII')"
   ]
  },
  {
   "cell_type": "code",
   "execution_count": 11,
   "metadata": {},
   "outputs": [],
   "source": [
    "class Sampling(layers.Layer):\n",
    "    \"\"\"Uses (z_mean, z_log_var) to sample z, the vector encoding a digit.\"\"\"\n",
    "\n",
    "    def call(self, inputs):\n",
    "        z_mean, z_log_var = inputs\n",
    "        batch = tf.shape(z_mean)[0]\n",
    "        dim = tf.shape(z_mean)[1]\n",
    "        epsilon = tf.keras.backend.random_normal(shape=(batch, dim))\n",
    "        return z_mean + tf.exp(0.5 * z_log_var) * epsilon"
   ]
  },
  {
   "cell_type": "code",
   "execution_count": 17,
   "metadata": {},
   "outputs": [
    {
     "name": "stdout",
     "output_type": "stream",
     "text": [
      "Model: \"encoder\"\n",
      "__________________________________________________________________________________________________\n",
      " Layer (type)                   Output Shape         Param #     Connected to                     \n",
      "==================================================================================================\n",
      " input_3 (InputLayer)           [(None, 3240)]       0           []                               \n",
      "                                                                                                  \n",
      " dense_5 (Dense)                (None, 1000)         3241000     ['input_3[0][0]']                \n",
      "                                                                                                  \n",
      " dense_6 (Dense)                (None, 100)          100100      ['dense_5[0][0]']                \n",
      "                                                                                                  \n",
      " z_mean (Dense)                 (None, 10)           1010        ['dense_6[0][0]']                \n",
      "                                                                                                  \n",
      " z_log_var (Dense)              (None, 10)           1010        ['dense_6[0][0]']                \n",
      "                                                                                                  \n",
      " sampling_1 (Sampling)          (None, 10)           0           ['z_mean[0][0]',                 \n",
      "                                                                  'z_log_var[0][0]']              \n",
      "                                                                                                  \n",
      "==================================================================================================\n",
      "Total params: 3,343,120\n",
      "Trainable params: 3,343,120\n",
      "Non-trainable params: 0\n",
      "__________________________________________________________________________________________________\n"
     ]
    }
   ],
   "source": [
    "latent_dim = 10\n",
    "\n",
    "encoder_inputs = keras.Input(shape=(3240))\n",
    "x = layers.Dense(1000, activation=\"relu\")(encoder_inputs)\n",
    "#x = layers.Dense(1000, activation=\"relu\")(x)\n",
    "x = layers.Dense(100, activation=\"relu\")(x)\n",
    "z_mean = layers.Dense(latent_dim, name=\"z_mean\")(x)\n",
    "z_log_var = layers.Dense(latent_dim, name=\"z_log_var\")(x)\n",
    "z = Sampling()([z_mean, z_log_var])\n",
    "encoder = keras.Model(encoder_inputs, [z_mean, z_log_var, z], name=\"encoder\")\n",
    "encoder.summary()"
   ]
  },
  {
   "cell_type": "code",
   "execution_count": 18,
   "metadata": {},
   "outputs": [
    {
     "name": "stdout",
     "output_type": "stream",
     "text": [
      "Model: \"decoder\"\n",
      "_________________________________________________________________\n",
      " Layer (type)                Output Shape              Param #   \n",
      "=================================================================\n",
      " input_4 (InputLayer)        [(None, 10)]              0         \n",
      "                                                                 \n",
      " dense_7 (Dense)             (None, 100)               1100      \n",
      "                                                                 \n",
      " dense_8 (Dense)             (None, 1000)              101000    \n",
      "                                                                 \n",
      " dense_9 (Dense)             (None, 3240)              3243240   \n",
      "                                                                 \n",
      "=================================================================\n",
      "Total params: 3,345,340\n",
      "Trainable params: 3,345,340\n",
      "Non-trainable params: 0\n",
      "_________________________________________________________________\n"
     ]
    }
   ],
   "source": [
    "latent_inputs = keras.Input(shape=(latent_dim,))\n",
    "x = layers.Dense(100, activation=\"relu\")(latent_inputs)\n",
    "#x = layers.Dense(1000, activation=\"relu\")(x)\n",
    "x = layers.Dense(1000, activation=\"relu\")(x)\n",
    "decoder_outputs= layers.Dense(3240, activation=\"sigmoid\")(x)\n",
    "decoder = keras.Model(latent_inputs, decoder_outputs, name=\"decoder\")\n",
    "decoder.summary()"
   ]
  },
  {
   "cell_type": "code",
   "execution_count": 19,
   "metadata": {},
   "outputs": [],
   "source": [
    "class VAE(keras.Model):\n",
    "    def __init__(self, encoder, decoder, **kwargs):\n",
    "        super(VAE, self).__init__(**kwargs)\n",
    "        self.encoder = encoder\n",
    "        self.decoder = decoder\n",
    "\n",
    "\n",
    "    def train_step(self, data):\n",
    "        if isinstance(data, tuple):\n",
    "            data = data[0]\n",
    "        with tf.GradientTape() as tape:\n",
    "            z_mean, z_log_var, z = self.encoder(data)\n",
    "            #reconstruction =tf.round(self.decoder(z))\n",
    "            reconstruction = self.decoder(z)\n",
    "            reconstruction_loss = tf.reduce_mean(\n",
    "                keras.losses.mean_squared_error(data, reconstruction)\n",
    "            )\n",
    "            reconstruction_loss *= 3240\n",
    "           \n",
    "            kl_loss = 1 + z_log_var - tf.square(z_mean) - tf.exp(z_log_var) \n",
    "            kl_loss = tf.reduce_mean(kl_loss)\n",
    "            kl_loss *= -0.5 \n",
    "\n",
    "            total_loss = reconstruction_loss + kl_loss \n",
    "        grads = tape.gradient(total_loss, self.trainable_weights)\n",
    "        self.optimizer.apply_gradients(zip(grads, self.trainable_weights))\n",
    "\n",
    "        return {\n",
    "            \"loss\": total_loss,\n",
    "            \"reconstruction_loss\": reconstruction_loss,\n",
    "            \"kl_loss\": kl_loss,\n",
    "        }\n",
    "\n",
    "\n",
    "    def test_step(self, data):\n",
    "      if isinstance(data, tuple):\n",
    "        data = data[0]\n",
    "\n",
    "      z_mean, z_log_var, z = self.encoder(data)\n",
    "      reconstruction = self.decoder(z)\n",
    "      reconstruction_loss = tf.reduce_mean(\n",
    "            keras.losses.mean_squared_error(data, reconstruction)\n",
    "      )\n",
    "      reconstruction_loss *= 81 * 81\n",
    "\n",
    "      kl_loss = 1 + z_log_var - tf.square(z_mean) - tf.exp(z_log_var)\n",
    "      kl_loss = tf.reduce_mean(kl_loss)\n",
    "      kl_loss *= -0.5\n",
    "      total_loss = reconstruction_loss + kl_loss\n",
    "\n",
    "      return {\n",
    "          \"loss\": total_loss,\n",
    "          \"reconstruction_loss\": reconstruction_loss,\n",
    "          \"kl_loss\": kl_loss,\n",
    "      }"
   ]
  },
  {
   "cell_type": "code",
   "execution_count": null,
   "metadata": {},
   "outputs": [],
   "source": [
    "vae =VAE(encoder, decoder)\n",
    "vae.compile(optimizer=keras.optimizers.Adam(),metrics=['accuracy'])\n",
    "history = vae.fit(feautures, epochs=500, batch_size=64,validation_split=0.2)"
   ]
  },
  {
   "cell_type": "code",
   "execution_count": null,
   "metadata": {},
   "outputs": [],
   "source": [
    "#plot random mesh\n",
    "tf_random=tf.random.uniform(shape\n",
    "    =[1, 10],\n",
    "    minval=0.3,\n",
    "    maxval=0.5,\n",
    "    dtype=tf.dtypes.float32,\n",
    "    seed=None,\n",
    "    name=None\n",
    ")\n",
    "decodedtensor=vae.decoder(tf_random)[0]\n",
    "decodedtensor=tf.round(decodedtensor)\n",
    "decodesarray=decodedtensor.numpy()\n",
    "mtx=flatten_to_matrix(decodesarray,81)\n",
    "testmesh= Mesh_from_mtx(mtx)\n",
    "plotter = MeshPlotter(testmesh, figsize=(2, 2))\n",
    "plotter.draw_edges()\n",
    "plotter.draw_vertices(text='key', radius=0.01)\n",
    "plotter.draw_faces()\n",
    "plotter.show()\n"
   ]
  },
  {
   "cell_type": "code",
   "execution_count": null,
   "metadata": {},
   "outputs": [],
   "source": [
    "#Save the VAE\n",
    "vae_save_dir= os.path.join(job_directory, \"Saved_Models\")\n",
    "vae.get_layer('encoder').save_weights(os.path.join(vae_save_dir, \"encoder_weights.h5\"))\n",
    "vae.get_layer('decoder').save_weights(os.path.join(vae_save_dir, \"decoder_weights.h5\"))\n",
    "vae.get_layer('encoder').save(os.path.join(vae_save_dir, \"encoder_arch\"))\n",
    "vae.get_layer('decoder').save(os.path.join(vae_save_dir, \"decoder_arch\"))"
   ]
  },
  {
   "cell_type": "code",
   "execution_count": 59,
   "metadata": {},
   "outputs": [
    {
     "name": "stdout",
     "output_type": "stream",
     "text": [
      "(3240,)\n"
     ]
    },
    {
     "data": {
      "image/png": "[encoded data removed]",
      "text/plain": [
       "<Figure size 200x200 with 1 Axes>"
      ]
     },
     "metadata": {},
     "output_type": "display_data"
    },
    {
     "name": "stdout",
     "output_type": "stream",
     "text": [
      "tf.Tensor(\n",
      "[2.0101666e-04 9.8676133e-01 2.7391315e-04 ... 1.2900531e-03 8.3337486e-01\n",
      " 3.2255054e-04], shape=(3240,), dtype=float32)\n"
     ]
    },
    {
     "data": {
      "image/png": "[encoded data removed]",
      "text/plain": [
       "<Figure size 200x200 with 1 Axes>"
      ]
     },
     "metadata": {},
     "output_type": "display_data"
    }
   ],
   "source": [
    "#plot a best design that is not included in the dataset\n",
    "test_mesh=feautures_best[6]\n",
    "print (test_mesh.shape)\n",
    "mtx=flatten_to_matrix(test_mesh,81)\n",
    "testmesh= Mesh_from_mtx(mtx)\n",
    "plotter = MeshPlotter(testmesh, figsize=(2, 2))\n",
    "plotter.draw_edges()\n",
    "plotter.draw_vertices(text='key', radius=0.01)\n",
    "plotter.draw_faces()\n",
    "plotter.show()\n",
    "\n",
    "\n",
    "#plot the decoded design \n",
    "x= vae.encoder(test_mesh.reshape(1,3240))\n",
    "mean=x[0]\n",
    "logvar=x[1]\n",
    "z=x[2]\n",
    "decodedtensor=vae.decoder(z)[0]\n",
    "print (decodedtensor)\n",
    "decodedtensor=tf.round(decodedtensor)\n",
    "decodesarray=decodedtensor.numpy()\n",
    "mtx=flatten_to_matrix(decodesarray,81)\n",
    "testmesh= Mesh_from_mtx(mtx)\n",
    "plotter = MeshPlotter(testmesh, figsize=(2, 2))\n",
    "plotter.draw_edges()\n",
    "plotter.draw_vertices(text='key', radius=0.01)\n",
    "plotter.draw_faces()\n",
    "plotter.show()\n"
   ]
  }
 ],
 "metadata": {
  "kernelspec": {
   "display_name": "Python 3.7.12 ('thesiscopy')",
   "language": "python",
   "name": "python3"
  },
  "language_info": {
   "codemirror_mode": {
    "name": "ipython",
    "version": 3
   },
   "file_extension": ".py",
   "mimetype": "text/x-python",
   "name": "python",
   "nbconvert_exporter": "python",
   "pygments_lexer": "ipython3",
   "version": "3.7.12"
  },
  "orig_nbformat": 4,
  "vscode": {
   "interpreter": {
    "hash": "53caa4d8a770eed13d8877004b836469854a1a466533e15943c2806be1db7360"
   }
  }
 },
 "nbformat": 4,
 "nbformat_minor": 2
}
