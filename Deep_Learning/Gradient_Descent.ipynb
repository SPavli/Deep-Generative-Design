{
 "cells": [
  {
   "cell_type": "code",
   "execution_count": 1,
   "metadata": {},
   "outputs": [
    {
     "name": "stderr",
     "output_type": "stream",
     "text": [
      "c:\\Users\\31613\\anaconda3\\envs\\thesiscopy\\lib\\site-packages\\requests\\__init__.py:104: RequestsDependencyWarning: urllib3 (1.26.9) or chardet (5.0.0)/charset_normalizer (2.0.12) doesn't match a supported version!\n",
      "  RequestsDependencyWarning)\n"
     ]
    }
   ],
   "source": [
    "import numpy as np\n",
    "from tensorflow import keras\n",
    "from tensorflow.keras import layers\n",
    "from keras.layers import Concatenate\n",
    "from IPython import display\n",
    "from sklearn.model_selection import train_test_split\n",
    "import glob\n",
    "import imageio\n",
    "from compas.datastructures import Mesh\n",
    "from compas_plotters.meshplotter import MeshPlotter\n",
    "import networkx \n",
    "from networkx.algorithms.components.connected import connected_components\n",
    "from keras import layers, activations\n",
    "import os\n",
    "import pandas as pd\n",
    "import tensorflow as tf\n",
    "import random"
   ]
  },
  {
   "cell_type": "code",
   "execution_count": 29,
   "metadata": {},
   "outputs": [],
   "source": [
    "job_directory=os.getcwd()\n",
    "data= os.path.join(job_directory, \"Data\",\"dense_meshquarter.obj\")\n",
    "meshdense = Mesh.from_obj(data)\n",
    "Trainning_Dataset_dir= os.path.join(job_directory, \"Trainning_Dataset\")\n",
    "feautures_flatten_dir=os.path.join(Trainning_Dataset_dir, \"feautures_flatten.npy\")\n",
    "feautures=np.load(feautures_flatten_dir, mmap_mode=None, allow_pickle=False, fix_imports=True, encoding='ASCII')"
   ]
  },
  {
   "cell_type": "code",
   "execution_count": 4,
   "metadata": {},
   "outputs": [],
   "source": [
    "# Get a mesh from an adjacency matrix\n",
    "def Mesh_from_mtx(mtx):\n",
    "    vertices_old = list(meshdense.vertices())\n",
    "    v_old=[]\n",
    "    for i in vertices_old:\n",
    "        i_coordinates_old=Mesh.vertex_coordinates(meshdense, i, axes='xyz')\n",
    "        v_old.append(i_coordinates_old)\n",
    "\n",
    "    #get the connected edges\n",
    "    D=networkx.DiGraph(mtx) \n",
    "    edges = [[u, v] for [u, v] in D.edges()]\n",
    "\n",
    "    #sort the tuples of edges\n",
    "    temp=[]\n",
    "    for i in edges:\n",
    "        temp.append(tuple(sorted(i)))\n",
    "\n",
    "    #delete duplicate edges\n",
    "    temp=set(temp) #first create ser\n",
    "\n",
    "    temp=tuple(temp) #convert set to tuple\n",
    "\n",
    "    #Convert to list\n",
    "    edges=[]\n",
    "    for i in temp:\n",
    "        z=[]\n",
    "        for y in i:\n",
    "            z.append(v_old[y])\n",
    "        edges.append(z)\n",
    "\n",
    "    mrebuild=Mesh.from_lines(edges)\n",
    "    return (mrebuild)"
   ]
  },
  {
   "cell_type": "code",
   "execution_count": 6,
   "metadata": {},
   "outputs": [],
   "source": [
    "def flatten_to_matrix(flatten_lst,shape1):\n",
    "    array_zero=np.zeros((shape1,shape1))\n",
    "    y=0\n",
    "    for i in range(shape1):\n",
    "        for e in range(i):\n",
    "            array_zero[i,e]=flatten_lst[y]\n",
    "            array_zero[e,i]=flatten_lst[y]\n",
    "            y=y+1\n",
    "    array_new=array_zero\n",
    "    return array_new"
   ]
  },
  {
   "cell_type": "code",
   "execution_count": 7,
   "metadata": {},
   "outputs": [],
   "source": [
    "#Check if the Generation Exists\n",
    "def exist(mtx,feautures_flatten):\n",
    "    ex=0\n",
    "    for i in range(feautures_flatten.shape[0]):\n",
    "        A=feautures_flatten[i]\n",
    "        B=mtx    \n",
    "        C=(A==B).all()\n",
    "        if C==1:\n",
    "            ex=ex+C\n",
    "    return ex"
   ]
  },
  {
   "cell_type": "code",
   "execution_count": 8,
   "metadata": {},
   "outputs": [],
   "source": [
    "class VAE(keras.Model):\n",
    "    def __init__(self, encoder, decoder, **kwargs):\n",
    "        super(VAE, self).__init__(**kwargs)\n",
    "        self.encoder = encoder\n",
    "        self.decoder = decoder\n",
    "\n",
    "\n",
    "    def train_step(self, data):\n",
    "        if isinstance(data, tuple):\n",
    "            data = data[0]\n",
    "        with tf.GradientTape() as tape:\n",
    "            z_mean, z_log_var, z = self.encoder(data)\n",
    "            #reconstruction =tf.round(self.decoder(z))\n",
    "            reconstruction = self.decoder(z)\n",
    "            reconstruction_loss = tf.reduce_mean(\n",
    "                keras.losses.mean_squared_error(data, reconstruction)\n",
    "            )\n",
    "            reconstruction_loss *= 3240\n",
    "           \n",
    "            kl_loss = 1 + z_log_var - tf.square(z_mean) - tf.exp(z_log_var) \n",
    "            kl_loss = tf.reduce_mean(kl_loss)\n",
    "            kl_loss *= -0.5 \n",
    "\n",
    "            total_loss = reconstruction_loss + kl_loss \n",
    "        grads = tape.gradient(total_loss, self.trainable_weights)\n",
    "        self.optimizer.apply_gradients(zip(grads, self.trainable_weights))\n",
    "\n",
    "        return {\n",
    "            \"loss\": total_loss,\n",
    "            \"reconstruction_loss\": reconstruction_loss,\n",
    "            \"kl_loss\": kl_loss,\n",
    "        }\n",
    "\n",
    "\n",
    "    def test_step(self, data):\n",
    "      if isinstance(data, tuple):\n",
    "        data = data[0]\n",
    "\n",
    "      z_mean, z_log_var, z = self.encoder(data)\n",
    "      reconstruction = self.decoder(z)\n",
    "      reconstruction_loss = tf.reduce_mean(\n",
    "            keras.losses.mean_squared_error(data, reconstruction)\n",
    "      )\n",
    "      reconstruction_loss *= 81 * 81\n",
    "\n",
    "      kl_loss = 1 + z_log_var - tf.square(z_mean) - tf.exp(z_log_var)\n",
    "      kl_loss = tf.reduce_mean(kl_loss)\n",
    "      kl_loss *= -0.5\n",
    "      total_loss = reconstruction_loss + kl_loss\n",
    "\n",
    "      return {\n",
    "          \"loss\": total_loss,\n",
    "          \"reconstruction_loss\": reconstruction_loss,\n",
    "          \"kl_loss\": kl_loss,\n",
    "      }"
   ]
  },
  {
   "cell_type": "code",
   "execution_count": 9,
   "metadata": {},
   "outputs": [
    {
     "name": "stdout",
     "output_type": "stream",
     "text": [
      "WARNING:tensorflow:No training configuration found in save file, so the model was *not* compiled. Compile it manually.\n",
      "WARNING:tensorflow:No training configuration found in save file, so the model was *not* compiled. Compile it manually.\n"
     ]
    }
   ],
   "source": [
    "job_directory=os.getcwd()\n",
    "location= os.path.join(job_directory, \"Saved_VAE/\")\n",
    "encoder= keras.models.load_model(location + \"encoder_arch\") #Loading the encoder model\n",
    "decoder= keras.models.load_model(location +\"decoder_arch\") #Loading the decoder model\n",
    "vae = VAE(encoder, decoder) #You need to have VAE class defined for this to works\n",
    "vae.get_layer('encoder').load_weights(location + \"encoder_weights.h5\") #On a given encoder model defined by vae_new we want to load the weights\n",
    "vae.get_layer('decoder').load_weights(location +\"decoder_weights.h5\") #for encoder and decoder\n",
    "vae.compile(optimizer=keras.optimizers.Adam())"
   ]
  },
  {
   "cell_type": "code",
   "execution_count": 10,
   "metadata": {},
   "outputs": [],
   "source": [
    "location_s= os.path.join(job_directory, \"Surrogate/\")\n",
    "surrogate= keras.models.load_model(location_s) #Loading the surrogate"
   ]
  },
  {
   "cell_type": "code",
   "execution_count": 35,
   "metadata": {},
   "outputs": [],
   "source": [
    "#load a case\n",
    "load_case_dir= os.path.join(job_directory, \"Cases\",\"int_665\",\"int_665_lr2.5.npy\")\n",
    "z_ar=np.load(load_case_dir, mmap_mode=None, allow_pickle=False, fix_imports=True, encoding='ASCII')\n",
    "z=tf.convert_to_tensor(z_ar)"
   ]
  },
  {
   "cell_type": "code",
   "execution_count": 36,
   "metadata": {},
   "outputs": [
    {
     "name": "stdout",
     "output_type": "stream",
     "text": [
      "for the sample performance is: 0.16579011 int: 999\n"
     ]
    },
    {
     "data": {
      "image/png": "[encoded data removed]",
      "text/plain": [
       "<Figure size 200x200 with 1 Axes>"
      ]
     },
     "metadata": {},
     "output_type": "display_data"
    }
   ],
   "source": [
    "#gradient descent for a loaded case\n",
    "lst_mtx=[]\n",
    "lst_perf=[]\n",
    "lst_gradient=[]\n",
    "lr=2.5\n",
    "latent_dim=10\n",
    "for i in range(1000):#loop for GD interations\n",
    "    with tf.GradientTape() as tape:\n",
    "        tape.watch(z)\n",
    "        decodedtensor=vae.decoder(z)\n",
    "        decodedtensor= layers.Reshape((1,3240))(decodedtensor)\n",
    "        y = surrogate(decodedtensor) \n",
    "        gradient = tape.gradient(y,z)\n",
    "    gr_arr=gradient.numpy().reshape(latent_dim)\n",
    "    rms=np.sqrt(np.mean(gr_arr**2))\n",
    "\n",
    "\n",
    "    lst_gradient.append(rms)\n",
    "    yarr=y.numpy()\n",
    "    yarr=yarr.reshape(1)    \n",
    "    lst_perf.append(yarr[0])\n",
    "\n",
    "              \n",
    "    decodedtensor=vae.decoder(z)\n",
    "    decodedtensor=tf.round(decodedtensor)\n",
    "    decodedarray=decodedtensor.numpy().reshape((3240))        \n",
    "    mtx=flatten_to_matrix(decodedarray,81)\n",
    "    z=z-(lr*gradient) \n",
    "    lst_mtx.append(mtx)\n",
    "\n",
    "        \n",
    "print (\"for the sample performance is:\",yarr[0],\"int:\",i)\n",
    "testmesh= Mesh_from_mtx(mtx)\n",
    "plotter = MeshPlotter(testmesh, figsize=(2, 2))\n",
    "plotter.draw_edges()\n",
    "plotter.draw_vertices(text='key', radius=0.01)\n",
    "plotter.draw_faces()\n",
    "plotter.show() "
   ]
  },
  {
   "cell_type": "code",
   "execution_count": 38,
   "metadata": {},
   "outputs": [
    {
     "name": "stdout",
     "output_type": "stream",
     "text": [
      "tf.Tensor(\n",
      "[[-1.3167368  -0.3738668  -1.0250523   1.3375028  -0.39333445 -0.21879253\n",
      "  -0.00659835  0.6803229   1.1768234  -1.0511771 ]], shape=(1, 10), dtype=float32)\n",
      "for the sample: 0 for which z= tf.Tensor(\n",
      "[[-1.3167368  -0.3738668  -1.0250523   1.3375028  -0.39333445 -0.21879253\n",
      "  -0.00659835  0.6803229   1.1768234  -1.0511771 ]], shape=(1, 10), dtype=float32) performance was: 0.24154848\n"
     ]
    },
    {
     "data": {
      "image/png": "[encoded data removed]",
      "text/plain": [
       "<Figure size 200x200 with 1 Axes>"
      ]
     },
     "metadata": {},
     "output_type": "display_data"
    },
    {
     "name": "stdout",
     "output_type": "stream",
     "text": [
      "tf.Tensor(\n",
      "[[-1.362783   -0.31933665  1.3956469   1.9476594  -1.4749503  -0.3345747\n",
      "  -0.00762774  0.47290894 -0.34124687 -0.08049969]], shape=(1, 10), dtype=float32)\n",
      "for the sample: 1 for which z= tf.Tensor(\n",
      "[[-1.362783   -0.31933665  1.3956469   1.9476594  -1.4749503  -0.3345747\n",
      "  -0.00762774  0.47290894 -0.34124687 -0.08049969]], shape=(1, 10), dtype=float32) performance was: 0.25716916\n"
     ]
    },
    {
     "data": {
      "image/png": "[encoded data removed]",
      "text/plain": [
       "<Figure size 200x200 with 1 Axes>"
      ]
     },
     "metadata": {},
     "output_type": "display_data"
    },
    {
     "name": "stdout",
     "output_type": "stream",
     "text": [
      "tf.Tensor(\n",
      "[[-0.06115837  0.43883407  0.39669192 -0.42801824 -0.713474    1.0742527\n",
      "  -0.64041746 -0.4008132   0.9989333   2.456815  ]], shape=(1, 10), dtype=float32)\n",
      "for the sample: 2 for which z= tf.Tensor(\n",
      "[[-0.06115837  0.43883407  0.39669192 -0.42801824 -0.713474    1.0742527\n",
      "  -0.64041746 -0.4008132   0.9989333   2.456815  ]], shape=(1, 10), dtype=float32) performance was: 0.16074629\n"
     ]
    },
    {
     "data": {
      "image/png": "[encoded data removed]",
      "text/plain": [
       "<Figure size 200x200 with 1 Axes>"
      ]
     },
     "metadata": {},
     "output_type": "display_data"
    },
    {
     "name": "stdout",
     "output_type": "stream",
     "text": [
      "tf.Tensor(\n",
      "[[ 5.5897510e-01  7.1675992e-01  8.1445634e-02 -1.1043290e+00\n",
      "  -1.2661517e-04  3.5658330e-03  1.3398567e-01 -6.5642431e-02\n",
      "   2.0499399e+00 -1.7902613e+00]], shape=(1, 10), dtype=float32)\n",
      "for the sample: 3 for which z= tf.Tensor(\n",
      "[[ 5.5897510e-01  7.1675992e-01  8.1445634e-02 -1.1043290e+00\n",
      "  -1.2661517e-04  3.5658330e-03  1.3398567e-01 -6.5642431e-02\n",
      "   2.0499399e+00 -1.7902613e+00]], shape=(1, 10), dtype=float32) performance was: 0.21724534\n"
     ]
    },
    {
     "data": {
      "image/png": "[encoded data removed]",
      "text/plain": [
       "<Figure size 200x200 with 1 Axes>"
      ]
     },
     "metadata": {},
     "output_type": "display_data"
    },
    {
     "name": "stdout",
     "output_type": "stream",
     "text": [
      "tf.Tensor(\n",
      "[[ 1.356616   -0.36078566 -0.10520443 -1.7968992  -0.20848984  0.7284169\n",
      "  -0.45482033  2.1381466  -0.501571    1.9886512 ]], shape=(1, 10), dtype=float32)\n",
      "for the sample: 4 for which z= tf.Tensor(\n",
      "[[ 1.356616   -0.36078566 -0.10520443 -1.7968992  -0.20848984  0.7284169\n",
      "  -0.45482033  2.1381466  -0.501571    1.9886512 ]], shape=(1, 10), dtype=float32) performance was: 0.19776565\n"
     ]
    },
    {
     "data": {
      "image/png": "[encoded data removed]",
      "text/plain": [
       "<Figure size 200x200 with 1 Axes>"
      ]
     },
     "metadata": {},
     "output_type": "display_data"
    },
    {
     "ename": "KeyboardInterrupt",
     "evalue": "",
     "output_type": "error",
     "traceback": [
      "\u001b[1;31m---------------------------------------------------------------------------\u001b[0m",
      "\u001b[1;31mKeyboardInterrupt\u001b[0m                         Traceback (most recent call last)",
      "\u001b[1;32m~\\AppData\\Local\\Temp\\ipykernel_9752\\4147109522.py\u001b[0m in \u001b[0;36m<module>\u001b[1;34m\u001b[0m\n\u001b[0;32m     20\u001b[0m             \u001b[0mdecodedtensor\u001b[0m\u001b[1;33m=\u001b[0m \u001b[0mlayers\u001b[0m\u001b[1;33m.\u001b[0m\u001b[0mReshape\u001b[0m\u001b[1;33m(\u001b[0m\u001b[1;33m(\u001b[0m\u001b[1;36m1\u001b[0m\u001b[1;33m,\u001b[0m\u001b[1;36m3240\u001b[0m\u001b[1;33m)\u001b[0m\u001b[1;33m)\u001b[0m\u001b[1;33m(\u001b[0m\u001b[0mdecodedtensor\u001b[0m\u001b[1;33m)\u001b[0m\u001b[1;33m\u001b[0m\u001b[1;33m\u001b[0m\u001b[0m\n\u001b[0;32m     21\u001b[0m             \u001b[0my\u001b[0m \u001b[1;33m=\u001b[0m \u001b[0msurrogate\u001b[0m\u001b[1;33m(\u001b[0m\u001b[0mdecodedtensor\u001b[0m\u001b[1;33m)\u001b[0m\u001b[1;33m\u001b[0m\u001b[1;33m\u001b[0m\u001b[0m\n\u001b[1;32m---> 22\u001b[1;33m             \u001b[0mgradient\u001b[0m \u001b[1;33m=\u001b[0m \u001b[0mtape\u001b[0m\u001b[1;33m.\u001b[0m\u001b[0mgradient\u001b[0m\u001b[1;33m(\u001b[0m\u001b[0my\u001b[0m\u001b[1;33m,\u001b[0m\u001b[0mz\u001b[0m\u001b[1;33m)\u001b[0m\u001b[1;33m\u001b[0m\u001b[1;33m\u001b[0m\u001b[0m\n\u001b[0m\u001b[0;32m     23\u001b[0m         \u001b[0myarr\u001b[0m\u001b[1;33m=\u001b[0m\u001b[0my\u001b[0m\u001b[1;33m.\u001b[0m\u001b[0mnumpy\u001b[0m\u001b[1;33m(\u001b[0m\u001b[1;33m)\u001b[0m\u001b[1;33m\u001b[0m\u001b[1;33m\u001b[0m\u001b[0m\n\u001b[0;32m     24\u001b[0m         \u001b[0myarr\u001b[0m\u001b[1;33m=\u001b[0m\u001b[0myarr\u001b[0m\u001b[1;33m.\u001b[0m\u001b[0mreshape\u001b[0m\u001b[1;33m(\u001b[0m\u001b[1;36m1\u001b[0m\u001b[1;33m)\u001b[0m\u001b[1;33m\u001b[0m\u001b[1;33m\u001b[0m\u001b[0m\n",
      "\u001b[1;32mc:\\Users\\31613\\anaconda3\\envs\\thesiscopy\\lib\\site-packages\\tensorflow\\python\\eager\\backprop.py\u001b[0m in \u001b[0;36mgradient\u001b[1;34m(self, target, sources, output_gradients, unconnected_gradients)\u001b[0m\n\u001b[0;32m   1085\u001b[0m         \u001b[0moutput_gradients\u001b[0m\u001b[1;33m=\u001b[0m\u001b[0moutput_gradients\u001b[0m\u001b[1;33m,\u001b[0m\u001b[1;33m\u001b[0m\u001b[1;33m\u001b[0m\u001b[0m\n\u001b[0;32m   1086\u001b[0m         \u001b[0msources_raw\u001b[0m\u001b[1;33m=\u001b[0m\u001b[0mflat_sources_raw\u001b[0m\u001b[1;33m,\u001b[0m\u001b[1;33m\u001b[0m\u001b[1;33m\u001b[0m\u001b[0m\n\u001b[1;32m-> 1087\u001b[1;33m         unconnected_gradients=unconnected_gradients)\n\u001b[0m\u001b[0;32m   1088\u001b[0m \u001b[1;33m\u001b[0m\u001b[0m\n\u001b[0;32m   1089\u001b[0m     \u001b[1;32mif\u001b[0m \u001b[1;32mnot\u001b[0m \u001b[0mself\u001b[0m\u001b[1;33m.\u001b[0m\u001b[0m_persistent\u001b[0m\u001b[1;33m:\u001b[0m\u001b[1;33m\u001b[0m\u001b[1;33m\u001b[0m\u001b[0m\n",
      "\u001b[1;32mc:\\Users\\31613\\anaconda3\\envs\\thesiscopy\\lib\\site-packages\\tensorflow\\python\\eager\\imperative_grad.py\u001b[0m in \u001b[0;36mimperative_grad\u001b[1;34m(tape, target, sources, output_gradients, sources_raw, unconnected_gradients)\u001b[0m\n\u001b[0;32m     71\u001b[0m       \u001b[0moutput_gradients\u001b[0m\u001b[1;33m,\u001b[0m\u001b[1;33m\u001b[0m\u001b[1;33m\u001b[0m\u001b[0m\n\u001b[0;32m     72\u001b[0m       \u001b[0msources_raw\u001b[0m\u001b[1;33m,\u001b[0m\u001b[1;33m\u001b[0m\u001b[1;33m\u001b[0m\u001b[0m\n\u001b[1;32m---> 73\u001b[1;33m       compat.as_str(unconnected_gradients.value))\n\u001b[0m",
      "\u001b[1;32mc:\\Users\\31613\\anaconda3\\envs\\thesiscopy\\lib\\site-packages\\tensorflow\\python\\eager\\backprop.py\u001b[0m in \u001b[0;36m_gradient_function\u001b[1;34m(op_name, attr_tuple, num_inputs, inputs, outputs, out_grads, skip_input_indices, forward_pass_name_scope)\u001b[0m\n\u001b[0;32m    154\u001b[0m       \u001b[0mgradient_name_scope\u001b[0m \u001b[1;33m+=\u001b[0m \u001b[0mforward_pass_name_scope\u001b[0m \u001b[1;33m+\u001b[0m \u001b[1;34m\"/\"\u001b[0m\u001b[1;33m\u001b[0m\u001b[1;33m\u001b[0m\u001b[0m\n\u001b[0;32m    155\u001b[0m     \u001b[1;32mwith\u001b[0m \u001b[0mops\u001b[0m\u001b[1;33m.\u001b[0m\u001b[0mname_scope\u001b[0m\u001b[1;33m(\u001b[0m\u001b[0mgradient_name_scope\u001b[0m\u001b[1;33m)\u001b[0m\u001b[1;33m:\u001b[0m\u001b[1;33m\u001b[0m\u001b[1;33m\u001b[0m\u001b[0m\n\u001b[1;32m--> 156\u001b[1;33m       \u001b[1;32mreturn\u001b[0m \u001b[0mgrad_fn\u001b[0m\u001b[1;33m(\u001b[0m\u001b[0mmock_op\u001b[0m\u001b[1;33m,\u001b[0m \u001b[1;33m*\u001b[0m\u001b[0mout_grads\u001b[0m\u001b[1;33m)\u001b[0m\u001b[1;33m\u001b[0m\u001b[1;33m\u001b[0m\u001b[0m\n\u001b[0m\u001b[0;32m    157\u001b[0m   \u001b[1;32melse\u001b[0m\u001b[1;33m:\u001b[0m\u001b[1;33m\u001b[0m\u001b[1;33m\u001b[0m\u001b[0m\n\u001b[0;32m    158\u001b[0m     \u001b[1;32mreturn\u001b[0m \u001b[0mgrad_fn\u001b[0m\u001b[1;33m(\u001b[0m\u001b[0mmock_op\u001b[0m\u001b[1;33m,\u001b[0m \u001b[1;33m*\u001b[0m\u001b[0mout_grads\u001b[0m\u001b[1;33m)\u001b[0m\u001b[1;33m\u001b[0m\u001b[1;33m\u001b[0m\u001b[0m\n",
      "\u001b[1;32mc:\\Users\\31613\\anaconda3\\envs\\thesiscopy\\lib\\site-packages\\tensorflow\\python\\ops\\math_grad.py\u001b[0m in \u001b[0;36m_MatMulGrad\u001b[1;34m(op, grad)\u001b[0m\n\u001b[0;32m   1739\u001b[0m   \u001b[1;32mif\u001b[0m \u001b[1;32mnot\u001b[0m \u001b[0mt_a\u001b[0m \u001b[1;32mand\u001b[0m \u001b[1;32mnot\u001b[0m \u001b[0mt_b\u001b[0m\u001b[1;33m:\u001b[0m\u001b[1;33m\u001b[0m\u001b[1;33m\u001b[0m\u001b[0m\n\u001b[0;32m   1740\u001b[0m     \u001b[0mgrad_a\u001b[0m \u001b[1;33m=\u001b[0m \u001b[0mgen_math_ops\u001b[0m\u001b[1;33m.\u001b[0m\u001b[0mmat_mul\u001b[0m\u001b[1;33m(\u001b[0m\u001b[0mgrad\u001b[0m\u001b[1;33m,\u001b[0m \u001b[0mb\u001b[0m\u001b[1;33m,\u001b[0m \u001b[0mtranspose_b\u001b[0m\u001b[1;33m=\u001b[0m\u001b[1;32mTrue\u001b[0m\u001b[1;33m)\u001b[0m\u001b[1;33m\u001b[0m\u001b[1;33m\u001b[0m\u001b[0m\n\u001b[1;32m-> 1741\u001b[1;33m     \u001b[0mgrad_b\u001b[0m \u001b[1;33m=\u001b[0m \u001b[0mgen_math_ops\u001b[0m\u001b[1;33m.\u001b[0m\u001b[0mmat_mul\u001b[0m\u001b[1;33m(\u001b[0m\u001b[0ma\u001b[0m\u001b[1;33m,\u001b[0m \u001b[0mgrad\u001b[0m\u001b[1;33m,\u001b[0m \u001b[0mtranspose_a\u001b[0m\u001b[1;33m=\u001b[0m\u001b[1;32mTrue\u001b[0m\u001b[1;33m)\u001b[0m\u001b[1;33m\u001b[0m\u001b[1;33m\u001b[0m\u001b[0m\n\u001b[0m\u001b[0;32m   1742\u001b[0m   \u001b[1;32melif\u001b[0m \u001b[1;32mnot\u001b[0m \u001b[0mt_a\u001b[0m \u001b[1;32mand\u001b[0m \u001b[0mt_b\u001b[0m\u001b[1;33m:\u001b[0m\u001b[1;33m\u001b[0m\u001b[1;33m\u001b[0m\u001b[0m\n\u001b[0;32m   1743\u001b[0m     \u001b[0mgrad_a\u001b[0m \u001b[1;33m=\u001b[0m \u001b[0mgen_math_ops\u001b[0m\u001b[1;33m.\u001b[0m\u001b[0mmat_mul\u001b[0m\u001b[1;33m(\u001b[0m\u001b[0mgrad\u001b[0m\u001b[1;33m,\u001b[0m \u001b[0mb\u001b[0m\u001b[1;33m)\u001b[0m\u001b[1;33m\u001b[0m\u001b[1;33m\u001b[0m\u001b[0m\n",
      "\u001b[1;32mc:\\Users\\31613\\anaconda3\\envs\\thesiscopy\\lib\\site-packages\\tensorflow\\python\\ops\\gen_math_ops.py\u001b[0m in \u001b[0;36mmat_mul\u001b[1;34m(a, b, transpose_a, transpose_b, name)\u001b[0m\n\u001b[0;32m   6012\u001b[0m       _result = pywrap_tfe.TFE_Py_FastPathExecute(\n\u001b[0;32m   6013\u001b[0m         \u001b[0m_ctx\u001b[0m\u001b[1;33m,\u001b[0m \u001b[1;34m\"MatMul\"\u001b[0m\u001b[1;33m,\u001b[0m \u001b[0mname\u001b[0m\u001b[1;33m,\u001b[0m \u001b[0ma\u001b[0m\u001b[1;33m,\u001b[0m \u001b[0mb\u001b[0m\u001b[1;33m,\u001b[0m \u001b[1;34m\"transpose_a\"\u001b[0m\u001b[1;33m,\u001b[0m \u001b[0mtranspose_a\u001b[0m\u001b[1;33m,\u001b[0m \u001b[1;34m\"transpose_b\"\u001b[0m\u001b[1;33m,\u001b[0m\u001b[1;33m\u001b[0m\u001b[1;33m\u001b[0m\u001b[0m\n\u001b[1;32m-> 6014\u001b[1;33m         transpose_b)\n\u001b[0m\u001b[0;32m   6015\u001b[0m       \u001b[1;32mreturn\u001b[0m \u001b[0m_result\u001b[0m\u001b[1;33m\u001b[0m\u001b[1;33m\u001b[0m\u001b[0m\n\u001b[0;32m   6016\u001b[0m     \u001b[1;32mexcept\u001b[0m \u001b[0m_core\u001b[0m\u001b[1;33m.\u001b[0m\u001b[0m_NotOkStatusException\u001b[0m \u001b[1;32mas\u001b[0m \u001b[0me\u001b[0m\u001b[1;33m:\u001b[0m\u001b[1;33m\u001b[0m\u001b[1;33m\u001b[0m\u001b[0m\n",
      "\u001b[1;31mKeyboardInterrupt\u001b[0m: "
     ]
    }
   ],
   "source": [
    "#Run the Gradient Descent for the Database\n",
    "lr=2.5\n",
    "lst_z=[]\n",
    "lst_mtx=[]\n",
    "lst_perf=[]\n",
    "\n",
    "for e in range(3619): #loop for all the samples\n",
    "    test_mesh=feautures[e]\n",
    "    \n",
    "    test_mesh= test_mesh.astype('float32')\n",
    "    test_mesh=test_mesh.reshape((1,3240))\n",
    "    x= vae.encoder(test_mesh)\n",
    "    z0=x[2]\n",
    "    z=z0\n",
    "    temp_lst=[]\n",
    "    for i in range(100):#loop for GD interations\n",
    "        with tf.GradientTape() as tape:\n",
    "            tape.watch(z)\n",
    "            decodedtensor=vae.decoder(z)\n",
    "            decodedtensor= layers.Reshape((1,3240))(decodedtensor)\n",
    "            y = surrogate(decodedtensor) \n",
    "            gradient = tape.gradient(y,z)\n",
    "        yarr=y.numpy()\n",
    "        yarr=yarr.reshape(1)                \n",
    "        decodedtensor=vae.decoder(z)\n",
    "        decodedtensor=tf.round(decodedtensor)\n",
    "        decodedarray=decodedtensor.numpy().reshape((3240))        \n",
    "        mtx=flatten_to_matrix(decodedarray,81)\n",
    "        z=z-(lr*gradient) \n",
    "\n",
    "    if yarr[0]<0.26 and exist(decodedarray,feautures)==0: #if estimated performance <0.19            \n",
    "        print (z0)\n",
    "        lst_z.append(z0)\n",
    "        lst_mtx.append(mtx)\n",
    "        lst_perf.append(yarr[0])\n",
    "        print (\"for the sample:\",(e),\"for which z=\" ,z0,\"performance was:\",yarr[0])\n",
    "        testmesh= Mesh_from_mtx(mtx)\n",
    "        plotter = MeshPlotter(testmesh, figsize=(2, 2))\n",
    "        plotter.draw_edges()\n",
    "        plotter.draw_vertices(text='key', radius=0.01)\n",
    "        plotter.draw_faces()\n",
    "        plotter.show() "
   ]
  }
 ],
 "metadata": {
  "kernelspec": {
   "display_name": "Python 3.7.12 ('thesiscopy')",
   "language": "python",
   "name": "python3"
  },
  "language_info": {
   "codemirror_mode": {
    "name": "ipython",
    "version": 3
   },
   "file_extension": ".py",
   "mimetype": "text/x-python",
   "name": "python",
   "nbconvert_exporter": "python",
   "pygments_lexer": "ipython3",
   "version": "3.7.12"
  },
  "orig_nbformat": 4,
  "vscode": {
   "interpreter": {
    "hash": "53caa4d8a770eed13d8877004b836469854a1a466533e15943c2806be1db7360"
   }
  }
 },
 "nbformat": 4,
 "nbformat_minor": 2
}
