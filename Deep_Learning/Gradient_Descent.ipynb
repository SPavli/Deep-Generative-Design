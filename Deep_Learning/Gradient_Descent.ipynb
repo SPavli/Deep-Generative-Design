{
 "cells": [
  {
   "cell_type": "code",
   "execution_count": null,
   "metadata": {},
   "outputs": [],
   "source": [
    "import numpy as np\n",
    "from tensorflow import keras\n",
    "from tensorflow.keras import layers\n",
    "from keras.layers import Concatenate\n",
    "from IPython import display\n",
    "from sklearn.model_selection import train_test_split\n",
    "import glob\n",
    "import imageio\n",
    "from compas.datastructures import Mesh\n",
    "from compas_plotters.meshplotter import MeshPlotter\n",
    "import networkx \n",
    "from networkx.algorithms.components.connected import connected_components\n",
    "from keras import layers, activations\n",
    "import os\n",
    "import pandas as pd\n",
    "import tensorflow as tf\n",
    "import random"
   ]
  },
  {
   "cell_type": "code",
   "execution_count": 29,
   "metadata": {},
   "outputs": [],
   "source": [
    "job_directory=os.getcwd()\n",
    "data= os.path.join(job_directory, \"Data\",\"dense_meshquarter.obj\")\n",
    "meshdense = Mesh.from_obj(data)\n",
    "Trainning_Dataset_dir= os.path.join(job_directory, \"Trainning_Dataset\")\n",
    "feautures_flatten_dir=os.path.join(Trainning_Dataset_dir, \"feautures_flatten.npy\")\n",
    "feautures=np.load(feautures_flatten_dir, mmap_mode=None, allow_pickle=False, fix_imports=True, encoding='ASCII')"
   ]
  },
  {
   "cell_type": "code",
   "execution_count": 4,
   "metadata": {},
   "outputs": [],
   "source": [
    "# Get a mesh from an adjacency matrix\n",
    "def Mesh_from_mtx(mtx):\n",
    "    vertices_old = list(meshdense.vertices())\n",
    "    v_old=[]\n",
    "    for i in vertices_old:\n",
    "        i_coordinates_old=Mesh.vertex_coordinates(meshdense, i, axes='xyz')\n",
    "        v_old.append(i_coordinates_old)\n",
    "\n",
    "    #get the connected edges\n",
    "    D=networkx.DiGraph(mtx) \n",
    "    edges = [[u, v] for [u, v] in D.edges()]\n",
    "\n",
    "    #sort the tuples of edges\n",
    "    temp=[]\n",
    "    for i in edges:\n",
    "        temp.append(tuple(sorted(i)))\n",
    "\n",
    "    #delete duplicate edges\n",
    "    temp=set(temp) #first create ser\n",
    "\n",
    "    temp=tuple(temp) #convert set to tuple\n",
    "\n",
    "    #Convert to list\n",
    "    edges=[]\n",
    "    for i in temp:\n",
    "        z=[]\n",
    "        for y in i:\n",
    "            z.append(v_old[y])\n",
    "        edges.append(z)\n",
    "\n",
    "    mrebuild=Mesh.from_lines(edges)\n",
    "    return (mrebuild)"
   ]
  },
  {
   "cell_type": "code",
   "execution_count": 6,
   "metadata": {},
   "outputs": [],
   "source": [
    "def flatten_to_matrix(flatten_lst,shape1):\n",
    "    array_zero=np.zeros((shape1,shape1))\n",
    "    y=0\n",
    "    for i in range(shape1):\n",
    "        for e in range(i):\n",
    "            array_zero[i,e]=flatten_lst[y]\n",
    "            array_zero[e,i]=flatten_lst[y]\n",
    "            y=y+1\n",
    "    array_new=array_zero\n",
    "    return array_new"
   ]
  },
  {
   "cell_type": "code",
   "execution_count": 7,
   "metadata": {},
   "outputs": [],
   "source": [
    "#Check if the Generation Exists\n",
    "def exist(mtx,feautures_flatten):\n",
    "    ex=0\n",
    "    for i in range(feautures_flatten.shape[0]):\n",
    "        A=feautures_flatten[i]\n",
    "        B=mtx    \n",
    "        C=(A==B).all()\n",
    "        if C==1:\n",
    "            ex=ex+C\n",
    "    return ex"
   ]
  },
  {
   "cell_type": "code",
   "execution_count": 8,
   "metadata": {},
   "outputs": [],
   "source": [
    "class VAE(keras.Model):\n",
    "    def __init__(self, encoder, decoder, **kwargs):\n",
    "        super(VAE, self).__init__(**kwargs)\n",
    "        self.encoder = encoder\n",
    "        self.decoder = decoder\n",
    "\n",
    "\n",
    "    def train_step(self, data):\n",
    "        if isinstance(data, tuple):\n",
    "            data = data[0]\n",
    "        with tf.GradientTape() as tape:\n",
    "            z_mean, z_log_var, z = self.encoder(data)\n",
    "            #reconstruction =tf.round(self.decoder(z))\n",
    "            reconstruction = self.decoder(z)\n",
    "            reconstruction_loss = tf.reduce_mean(\n",
    "                keras.losses.mean_squared_error(data, reconstruction)\n",
    "            )\n",
    "            reconstruction_loss *= 3240\n",
    "           \n",
    "            kl_loss = 1 + z_log_var - tf.square(z_mean) - tf.exp(z_log_var) \n",
    "            kl_loss = tf.reduce_mean(kl_loss)\n",
    "            kl_loss *= -0.5 \n",
    "\n",
    "            total_loss = reconstruction_loss + kl_loss \n",
    "        grads = tape.gradient(total_loss, self.trainable_weights)\n",
    "        self.optimizer.apply_gradients(zip(grads, self.trainable_weights))\n",
    "\n",
    "        return {\n",
    "            \"loss\": total_loss,\n",
    "            \"reconstruction_loss\": reconstruction_loss,\n",
    "            \"kl_loss\": kl_loss,\n",
    "        }\n",
    "\n",
    "\n",
    "    def test_step(self, data):\n",
    "      if isinstance(data, tuple):\n",
    "        data = data[0]\n",
    "\n",
    "      z_mean, z_log_var, z = self.encoder(data)\n",
    "      reconstruction = self.decoder(z)\n",
    "      reconstruction_loss = tf.reduce_mean(\n",
    "            keras.losses.mean_squared_error(data, reconstruction)\n",
    "      )\n",
    "      reconstruction_loss *= 81 * 81\n",
    "\n",
    "      kl_loss = 1 + z_log_var - tf.square(z_mean) - tf.exp(z_log_var)\n",
    "      kl_loss = tf.reduce_mean(kl_loss)\n",
    "      kl_loss *= -0.5\n",
    "      total_loss = reconstruction_loss + kl_loss\n",
    "\n",
    "      return {\n",
    "          \"loss\": total_loss,\n",
    "          \"reconstruction_loss\": reconstruction_loss,\n",
    "          \"kl_loss\": kl_loss,\n",
    "      }"
   ]
  },
  {
   "cell_type": "code",
   "execution_count": null,
   "metadata": {},
   "outputs": [],
   "source": [
    "job_directory=os.getcwd()\n",
    "location= os.path.join(job_directory, \"Saved_VAE/\")\n",
    "encoder= keras.models.load_model(location + \"encoder_arch\") #Loading the encoder model\n",
    "decoder= keras.models.load_model(location +\"decoder_arch\") #Loading the decoder model\n",
    "vae = VAE(encoder, decoder) #You need to have VAE class defined for this to works\n",
    "vae.get_layer('encoder').load_weights(location + \"encoder_weights.h5\") #On a given encoder model defined by vae_new we want to load the weights\n",
    "vae.get_layer('decoder').load_weights(location +\"decoder_weights.h5\") #for encoder and decoder\n",
    "vae.compile(optimizer=keras.optimizers.Adam())"
   ]
  },
  {
   "cell_type": "code",
   "execution_count": 10,
   "metadata": {},
   "outputs": [],
   "source": [
    "location_s= os.path.join(job_directory, \"Surrogate/\")\n",
    "surrogate= keras.models.load_model(location_s) #Loading the surrogate"
   ]
  },
  {
   "cell_type": "code",
   "execution_count": 35,
   "metadata": {},
   "outputs": [],
   "source": [
    "#load a case\n",
    "load_case_dir= os.path.join(job_directory, \"Cases\",\"int_665\",\"int_665_lr2.5.npy\")\n",
    "z_ar=np.load(load_case_dir, mmap_mode=None, allow_pickle=False, fix_imports=True, encoding='ASCII')\n",
    "z=tf.convert_to_tensor(z_ar)"
   ]
  },
  {
   "cell_type": "code",
   "execution_count": 36,
   "metadata": {},
   "outputs": [
    {
     "name": "stdout",
     "output_type": "stream",
     "text": [
      "for the sample performance is: 0.16579011 int: 999\n"
     ]
    },
    {
     "data": {
      "image/png": "[encoded data removed]",
      "text/plain": [
       "<Figure size 200x200 with 1 Axes>"
      ]
     },
     "metadata": {},
     "output_type": "display_data"
    }
   ],
   "source": [
    "#gradient descent for a loaded case\n",
    "lst_mtx=[]\n",
    "lst_perf=[]\n",
    "lst_gradient=[]\n",
    "lr=2.5\n",
    "latent_dim=10\n",
    "for i in range(1000):#loop for GD interations\n",
    "    with tf.GradientTape() as tape:\n",
    "        tape.watch(z)\n",
    "        decodedtensor=vae.decoder(z)\n",
    "        decodedtensor= layers.Reshape((1,3240))(decodedtensor)\n",
    "        y = surrogate(decodedtensor) \n",
    "        gradient = tape.gradient(y,z)\n",
    "    gr_arr=gradient.numpy().reshape(latent_dim)\n",
    "    rms=np.sqrt(np.mean(gr_arr**2))\n",
    "\n",
    "\n",
    "    lst_gradient.append(rms)\n",
    "    yarr=y.numpy()\n",
    "    yarr=yarr.reshape(1)    \n",
    "    lst_perf.append(yarr[0])\n",
    "\n",
    "              \n",
    "    decodedtensor=vae.decoder(z)\n",
    "    decodedtensor=tf.round(decodedtensor)\n",
    "    decodedarray=decodedtensor.numpy().reshape((3240))        \n",
    "    mtx=flatten_to_matrix(decodedarray,81)\n",
    "    z=z-(lr*gradient) \n",
    "    lst_mtx.append(mtx)\n",
    "\n",
    "        \n",
    "print (\"for the sample performance is:\",yarr[0],\"int:\",i)\n",
    "testmesh= Mesh_from_mtx(mtx)\n",
    "plotter = MeshPlotter(testmesh, figsize=(2, 2))\n",
    "plotter.draw_edges()\n",
    "plotter.draw_vertices(text='key', radius=0.01)\n",
    "plotter.draw_faces()\n",
    "plotter.show() "
   ]
  },
  {
   "cell_type": "code",
   "execution_count": null,
   "metadata": {},
   "outputs": [],
   "source": [
    "#Run the Gradient Descent for the Database\n",
    "lr=2.5\n",
    "lst_z=[]\n",
    "lst_mtx=[]\n",
    "lst_perf=[]\n",
    "\n",
    "for e in range(3619): #loop for all the samples\n",
    "    test_mesh=feautures[e]\n",
    "    \n",
    "    test_mesh= test_mesh.astype('float32')\n",
    "    test_mesh=test_mesh.reshape((1,3240))\n",
    "    x= vae.encoder(test_mesh)\n",
    "    z0=x[2]\n",
    "    z=z0\n",
    "    temp_lst=[]\n",
    "    for i in range(100):#loop for GD interations\n",
    "        with tf.GradientTape() as tape:\n",
    "            tape.watch(z)\n",
    "            decodedtensor=vae.decoder(z)\n",
    "            decodedtensor= layers.Reshape((1,3240))(decodedtensor)\n",
    "            y = surrogate(decodedtensor) \n",
    "            gradient = tape.gradient(y,z)\n",
    "        yarr=y.numpy()\n",
    "        yarr=yarr.reshape(1)                \n",
    "        decodedtensor=vae.decoder(z)\n",
    "        decodedtensor=tf.round(decodedtensor)\n",
    "        decodedarray=decodedtensor.numpy().reshape((3240))        \n",
    "        mtx=flatten_to_matrix(decodedarray,81)\n",
    "        z=z-(lr*gradient) \n",
    "\n",
    "    if yarr[0]<0.26 and exist(decodedarray,feautures)==0: #if estimated performance <0.19            \n",
    "        print (z0)\n",
    "        lst_z.append(z0)\n",
    "        lst_mtx.append(mtx)\n",
    "        lst_perf.append(yarr[0])\n",
    "        print (\"for the sample:\",(e),\"for which z=\" ,z0,\"performance was:\",yarr[0])\n",
    "        testmesh= Mesh_from_mtx(mtx)\n",
    "        plotter = MeshPlotter(testmesh, figsize=(2, 2))\n",
    "        plotter.draw_edges()\n",
    "        plotter.draw_vertices(text='key', radius=0.01)\n",
    "        plotter.draw_faces()\n",
    "        plotter.show() "
   ]
  }
 ],
 "metadata": {
  "kernelspec": {
   "display_name": "Python 3.7.12 ('thesiscopy')",
   "language": "python",
   "name": "python3"
  },
  "language_info": {
   "codemirror_mode": {
    "name": "ipython",
    "version": 3
   },
   "file_extension": ".py",
   "mimetype": "text/x-python",
   "name": "python",
   "nbconvert_exporter": "python",
   "pygments_lexer": "ipython3",
   "version": "3.7.12"
  },
  "orig_nbformat": 4,
  "vscode": {
   "interpreter": {
    "hash": "53caa4d8a770eed13d8877004b836469854a1a466533e15943c2806be1db7360"
   }
  }
 },
 "nbformat": 4,
 "nbformat_minor": 2
}
