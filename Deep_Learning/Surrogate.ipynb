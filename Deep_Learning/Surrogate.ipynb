{
 "cells": [
  {
   "cell_type": "code",
   "execution_count": 1,
   "metadata": {},
   "outputs": [
    {
     "name": "stderr",
     "output_type": "stream",
     "text": [
      "c:\\Users\\31613\\anaconda3\\envs\\thesiscopy\\lib\\site-packages\\requests\\__init__.py:104: RequestsDependencyWarning: urllib3 (1.26.9) or chardet (5.0.0)/charset_normalizer (2.0.12) doesn't match a supported version!\n",
      "  RequestsDependencyWarning)\n"
     ]
    }
   ],
   "source": [
    "import numpy as np\n",
    "from tensorflow import keras\n",
    "from tensorflow.keras import layers\n",
    "from keras.layers import Concatenate\n",
    "from IPython import display\n",
    "from sklearn.model_selection import train_test_split\n",
    "import glob\n",
    "import imageio\n",
    "from compas.datastructures import Mesh\n",
    "from compas_plotters.meshplotter import MeshPlotter\n",
    "import networkx \n",
    "from networkx.algorithms.components.connected import connected_components\n",
    "from keras import layers, activations\n",
    "import os\n",
    "import pandas as pd\n",
    "import tensorflow as tf\n",
    "import random"
   ]
  },
  {
   "cell_type": "code",
   "execution_count": 2,
   "metadata": {},
   "outputs": [],
   "source": [
    "#Load dataset\n",
    "job_directory=os.getcwd()\n",
    "Trainning_Dataset_dir= os.path.join(job_directory, \"Trainning_Dataset\")\n",
    "feautures_flatten_dir=os.path.join(Trainning_Dataset_dir, \"feautures_flatten.npy\")\n",
    "feautures_flatten_best_dir=os.path.join(Trainning_Dataset_dir, \"feautures_flatten_best.npy\")\n",
    "labels_dir=os.path.join(Trainning_Dataset_dir, \"labels.npy\")\n",
    "x_train_dir=os.path.join(Trainning_Dataset_dir, \"x_train.npy\")\n",
    "y_train_dir=os.path.join(Trainning_Dataset_dir,\"y_train.npy\")\n",
    "x_test_dir=os.path.join(Trainning_Dataset_dir, \"x_test.npy\")\n",
    "y_test_dir=os.path.join(Trainning_Dataset_dir,\"y_test.npy\")\n",
    "\n",
    "feautures=np.load(feautures_flatten_dir, mmap_mode=None, allow_pickle=False, fix_imports=True, encoding='ASCII')\n",
    "feautures_best=np.load(feautures_flatten_best_dir, mmap_mode=None, allow_pickle=False, fix_imports=True, encoding='ASCII')\n",
    "labels=np.load(labels_dir, mmap_mode=None, allow_pickle=False, fix_imports=True, encoding='ASCII')\n",
    "x_train=np.load(x_train_dir, mmap_mode=None, allow_pickle=False, fix_imports=True, encoding='ASCII')\n",
    "y_train=np.load(y_train_dir, mmap_mode=None, allow_pickle=False, fix_imports=True, encoding='ASCII')\n",
    "x_test=np.load(x_test_dir, mmap_mode=None, allow_pickle=False, fix_imports=True, encoding='ASCII')\n",
    "y_test=np.load(y_test_dir, mmap_mode=None, allow_pickle=False, fix_imports=True, encoding='ASCII')"
   ]
  },
  {
   "cell_type": "code",
   "execution_count": 3,
   "metadata": {},
   "outputs": [],
   "source": [
    "#Surrogate\n",
    "surrogate = keras.Sequential([\n",
    "    keras.Input(shape=(1,3240)),\n",
    "    layers.Flatten(),\n",
    "    layers.Dense(32, activation='relu'),\n",
    "    layers.Dense(32, activation='relu'), \n",
    "    layers.Dense(1)\n",
    "])\n",
    "\n",
    "surrogate.compile(loss='mean_absolute_error',\n",
    "            optimizer=tf.keras.optimizers.Adam(5e-4))"
   ]
  },
  {
   "cell_type": "code",
   "execution_count": null,
   "metadata": {},
   "outputs": [],
   "source": [
    "history_sur = surrogate.fit(\n",
    "    x_train,\n",
    "    y_train,\n",
    "    validation_split=0.2,\n",
    "    verbose=1, epochs=100,batch_size=32)"
   ]
  },
  {
   "cell_type": "code",
   "execution_count": 5,
   "metadata": {},
   "outputs": [
    {
     "name": "stdout",
     "output_type": "stream",
     "text": [
      "estimated performance 0.27488178\n",
      "actual performance 0.21509989\n"
     ]
    }
   ],
   "source": [
    "#evaluate estimations with data outside of the dataset\n",
    "train_sample=35\n",
    "x=x_test[train_sample]\n",
    "x= tf. convert_to_tensor(x)\n",
    "x= layers.Reshape((1,3240))(x)\n",
    "y = surrogate(x).numpy().reshape(1,)\n",
    "print (\"estimated performance\",y[0])\n",
    "print (\"actual performance\",y_test[train_sample])\n"
   ]
  },
  {
   "cell_type": "code",
   "execution_count": 7,
   "metadata": {},
   "outputs": [
    {
     "name": "stdout",
     "output_type": "stream",
     "text": [
      "INFO:tensorflow:Assets written to: Surrogate2\\assets\n"
     ]
    }
   ],
   "source": [
    "save_path=vae_save_dir= os.path.join(\"Surrogate\")\n",
    "surrogate.save(save_path)"
   ]
  }
 ],
 "metadata": {
  "kernelspec": {
   "display_name": "Python 3.7.12 ('thesiscopy')",
   "language": "python",
   "name": "python3"
  },
  "language_info": {
   "codemirror_mode": {
    "name": "ipython",
    "version": 3
   },
   "file_extension": ".py",
   "mimetype": "text/x-python",
   "name": "python",
   "nbconvert_exporter": "python",
   "pygments_lexer": "ipython3",
   "version": "3.7.12"
  },
  "orig_nbformat": 4,
  "vscode": {
   "interpreter": {
    "hash": "53caa4d8a770eed13d8877004b836469854a1a466533e15943c2806be1db7360"
   }
  }
 },
 "nbformat": 4,
 "nbformat_minor": 2
}
